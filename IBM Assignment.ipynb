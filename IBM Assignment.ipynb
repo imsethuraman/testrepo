{
  "metadata": {
    "language_info": {
      "codemirror_mode": {
        "name": "python",
        "version": 3
      },
      "file_extension": ".py",
      "mimetype": "text/x-python",
      "name": "python",
      "nbconvert_exporter": "python",
      "pygments_lexer": "ipython3",
      "version": "3.8"
    },
    "kernelspec": {
      "name": "python",
      "display_name": "Python (Pyodide)",
      "language": "python"
    }
  },
  "nbformat_minor": 4,
  "nbformat": 4,
  "cells": [
    {
      "cell_type": "markdown",
      "source": "# My Jupyter Notebook on IBM Watson Studio\n",
      "metadata": {}
    },
    {
      "cell_type": "markdown",
      "source": "#### **Sethuraman B**",
      "metadata": {}
    },
    {
      "cell_type": "markdown",
      "source": "#### **Data Analyst offers a wide range of exciting and impactful career opportunities,with the ability to solve complex problems, gain valuable insights, and drive innovation in various industries.**",
      "metadata": {}
    },
    {
      "cell_type": "markdown",
      "source": "#### *Data Analysts play a crucial role in organizations by turning data into actionable insights to drive decision-making, improve business processes and achieve strategic goals. They help identify trends, patterns, and relationships within large data sets, and communicate findings to stakeholders in a clear and concise manner.*",
      "metadata": {}
    },
    {
      "cell_type": "markdown",
      "source": "### Below code will print Hello World and Addition",
      "metadata": {}
    },
    {
      "cell_type": "code",
      "source": "print(\"Hello World!\")\nprint(24+27)",
      "metadata": {
        "trusted": true
      },
      "execution_count": 28,
      "outputs": [
        {
          "name": "stdout",
          "text": "Hello World!\n51\n",
          "output_type": "stream"
        }
      ]
    },
    {
      "cell_type": "markdown",
      "source": "Bulleted List:\n* item 1\n* item 2\n* item 3",
      "metadata": {}
    },
    {
      "cell_type": "markdown",
      "source": "Numbered List:\n1. Apple\n2. Banana\n3. Pineapple",
      "metadata": {}
    },
    {
      "cell_type": "markdown",
      "source": "![image alt text](\"C:\\Users\\Sethu\\Downloads\\pexels-johannes-plenio-1435075.jpg\")",
      "metadata": {}
    },
    {
      "cell_type": "markdown",
      "source": "[OpenAI](https://openai.com)",
      "metadata": {}
    },
    {
      "cell_type": "markdown",
      "source": "| Name | Age | Occupation |\n|------|-----|-----------|\n| John | 32  | Data Analyst |\n| Jane | 28  | Software Engineer |",
      "metadata": {}
    }
  ]
}